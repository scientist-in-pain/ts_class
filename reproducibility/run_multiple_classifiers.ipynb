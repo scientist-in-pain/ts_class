{
 "cells": [
  {
   "cell_type": "code",
   "execution_count": 1,
   "id": "abd7ecd6-0890-4ed7-9b62-053269d68810",
   "metadata": {
    "tags": []
   },
   "outputs": [],
   "source": [
    "# python imports\n",
    "import os\n",
    "import numpy as np\n",
    "import pandas as pd\n",
    "import scipy.io\n",
    "import matplotlib.pyplot as plt\n",
    "import seaborn as sns\n",
    "import pickle\n",
    "import argparse\n",
    "import logging\n"
   ]
  },
  {
   "cell_type": "code",
   "execution_count": 2,
   "id": "ddbb3602-0c78-4784-8ba3-c9d6ccf79350",
   "metadata": {
    "tags": []
   },
   "outputs": [],
   "source": [
    "path_to_classifier = os.path.dirname(os.getcwd())\n",
    "os.chdir(path_to_classifier)\n",
    "\n",
    "# ts_class packages, imported from the downloaded Github repository\n",
    "from activity_classifier.main import run_model\n",
    "from activity_classifier.config import TSF_MODEL, RISE_MODEL, OBS, PREDICTION, OUTPUT_PATH\n",
    "from activity_classifier.prepare_data import prepare_data\n",
    "from activity_classifier.retrain_models import retrain_tsf, retrain_rise\n",
    "from math import floor\n",
    "from copy import deepcopy\n",
    "from reproducibility.repeated_training import run_many_classifiers, run_many_classifiers_shuffle\n",
    "\n",
    "# Make sure the path is right after all the imports are done\n",
    "os.chdir(path_to_classifier)"
   ]
  },
  {
   "cell_type": "code",
   "execution_count": 3,
   "id": "2b786292-cb19-46e2-b6e7-9a3bd9b138cd",
   "metadata": {
    "tags": []
   },
   "outputs": [],
   "source": [
    "# Setting up experiment details and file paths\n",
    "sampling_rate = 3.65 # frames per second\n",
    "duration = 300 # seconds\n",
    "\n",
    "# Main folder where the outputs should go\n",
    "output_folder_path = \"reproducibility\"\n",
    "data_folder_path = \"data\"\n",
    "training_file_path = \"data/training_data.csv\"\n",
    "training_file_path_shuf = \"data/training_data_shuffled.csv\"\n",
    "data_files = ['training_data.csv','test_data.csv'] # dF/F files, one per animal (\"experiment\"), with each ROI as a row and each time point as a column. \n",
    "experiments = ['training_data','test_data']\n",
    "has_labels = [True,False] # if experiment has ground truth lidocaine data and those labels are in the csv file"
   ]
  },
  {
   "cell_type": "code",
   "execution_count": 4,
   "id": "819c0627-2a98-44d9-bc65-6498f401802d",
   "metadata": {
    "tags": []
   },
   "outputs": [],
   "source": [
    "dFoverFs ={}\n",
    "predictions ={}\n",
    "for experiment,data_file,labelled in zip(experiments,data_files,has_labels):\n",
    "    dFoverFs[experiment]=pd.read_csv(os.path.join(data_folder_path,data_file), header=0).iloc[:,:-1].values\n",
    "    if labelled:\n",
    "        predictions[experiment]=pd.read_csv(os.path.join(data_folder_path,data_file), header=0).iloc[:,-1].values"
   ]
  },
  {
   "cell_type": "code",
   "execution_count": 5,
   "id": "630fb141-6bdd-4fe4-a30c-56cc520614ec",
   "metadata": {
    "tags": []
   },
   "outputs": [
    {
     "name": "stdout",
     "output_type": "stream",
     "text": [
      "RESULTS RISE: {'ACCURACY': 0.9724781375215699, 'PRECISION': 0.9564671037497124, 'RECALL': 0.9078422859933741}\n",
      "VARIABILITY RESULTS RISE: {'ACCURACY': 0.006116601824199095, 'PRECISION': 0.02974193649273478, 'RECALL': 0.04082910903418303}\n",
      "MIN RESULTS RISE: {'ACCURACY': 0.9655172413793104, 'PRECISION': 0.9259259259259259, 'RECALL': 0.8392857142857143}\n",
      "MAX RESULTS RISE: {'ACCURACY': 0.9808429118773946, 'PRECISION': 1.0, 'RECALL': 0.9433962264150944}\n",
      "training_data\n"
     ]
    },
    {
     "name": "stderr",
     "output_type": "stream",
     "text": [
      "C:\\Users\\malin\\OneDrive\\Documents\\GitHub\\ts_class\\activity_classifier\\prepare_data.py:42: SettingWithCopyWarning: \n",
      "A value is trying to be set on a copy of a slice from a DataFrame.\n",
      "Try using .loc[row_indexer,col_indexer] = value instead\n",
      "\n",
      "See the caveats in the documentation: https://pandas.pydata.org/pandas-docs/stable/user_guide/indexing.html#returning-a-view-versus-a-copy\n",
      "  data[OBS] = [pd.Series(interpolate_data(row, seconds, end_frame_rate)) for row in np.array(data)]\n"
     ]
    },
    {
     "name": "stdout",
     "output_type": "stream",
     "text": [
      "test_data\n"
     ]
    },
    {
     "name": "stderr",
     "output_type": "stream",
     "text": [
      "C:\\Users\\malin\\OneDrive\\Documents\\GitHub\\ts_class\\activity_classifier\\prepare_data.py:42: SettingWithCopyWarning: \n",
      "A value is trying to be set on a copy of a slice from a DataFrame.\n",
      "Try using .loc[row_indexer,col_indexer] = value instead\n",
      "\n",
      "See the caveats in the documentation: https://pandas.pydata.org/pandas-docs/stable/user_guide/indexing.html#returning-a-view-versus-a-copy\n",
      "  data[OBS] = [pd.Series(interpolate_data(row, seconds, end_frame_rate)) for row in np.array(data)]\n"
     ]
    },
    {
     "name": "stdout",
     "output_type": "stream",
     "text": [
      "RESULTS RISE: {'ACCURACY': 0.9732531952853088, 'PRECISION': 0.9572201853623035, 'RECALL': 0.9149352396325762}\n",
      "VARIABILITY RESULTS RISE: {'ACCURACY': 0.017566260865561373, 'PRECISION': 0.030040350139314644, 'RECALL': 0.054520305819801745}\n",
      "MIN RESULTS RISE: {'ACCURACY': 0.9427480916030534, 'PRECISION': 0.9074074074074074, 'RECALL': 0.8305084745762712}\n",
      "MAX RESULTS RISE: {'ACCURACY': 0.9923664122137404, 'PRECISION': 0.9838709677419355, 'RECALL': 0.9761904761904762}\n",
      "training_data\n"
     ]
    },
    {
     "name": "stderr",
     "output_type": "stream",
     "text": [
      "C:\\Users\\malin\\OneDrive\\Documents\\GitHub\\ts_class\\activity_classifier\\prepare_data.py:42: SettingWithCopyWarning: \n",
      "A value is trying to be set on a copy of a slice from a DataFrame.\n",
      "Try using .loc[row_indexer,col_indexer] = value instead\n",
      "\n",
      "See the caveats in the documentation: https://pandas.pydata.org/pandas-docs/stable/user_guide/indexing.html#returning-a-view-versus-a-copy\n",
      "  data[OBS] = [pd.Series(interpolate_data(row, seconds, end_frame_rate)) for row in np.array(data)]\n"
     ]
    },
    {
     "name": "stdout",
     "output_type": "stream",
     "text": [
      "test_data\n"
     ]
    },
    {
     "name": "stderr",
     "output_type": "stream",
     "text": [
      "C:\\Users\\malin\\OneDrive\\Documents\\GitHub\\ts_class\\activity_classifier\\prepare_data.py:42: SettingWithCopyWarning: \n",
      "A value is trying to be set on a copy of a slice from a DataFrame.\n",
      "Try using .loc[row_indexer,col_indexer] = value instead\n",
      "\n",
      "See the caveats in the documentation: https://pandas.pydata.org/pandas-docs/stable/user_guide/indexing.html#returning-a-view-versus-a-copy\n",
      "  data[OBS] = [pd.Series(interpolate_data(row, seconds, end_frame_rate)) for row in np.array(data)]\n"
     ]
    },
    {
     "name": "stdout",
     "output_type": "stream",
     "text": [
      "RESULTS RISE: {'ACCURACY': 0.9732473457927524, 'PRECISION': 0.9604472823612203, 'RECALL': 0.9102079567748369}\n",
      "VARIABILITY RESULTS RISE: {'ACCURACY': 0.009642022194003117, 'PRECISION': 0.013231319529511995, 'RECALL': 0.04093451284604104}\n",
      "MIN RESULTS RISE: {'ACCURACY': 0.9541984732824428, 'PRECISION': 0.9411764705882353, 'RECALL': 0.8305084745762712}\n",
      "MAX RESULTS RISE: {'ACCURACY': 0.9809160305343512, 'PRECISION': 0.9827586206896551, 'RECALL': 0.9411764705882353}\n",
      "training_data\n"
     ]
    },
    {
     "name": "stderr",
     "output_type": "stream",
     "text": [
      "C:\\Users\\malin\\OneDrive\\Documents\\GitHub\\ts_class\\activity_classifier\\prepare_data.py:42: SettingWithCopyWarning: \n",
      "A value is trying to be set on a copy of a slice from a DataFrame.\n",
      "Try using .loc[row_indexer,col_indexer] = value instead\n",
      "\n",
      "See the caveats in the documentation: https://pandas.pydata.org/pandas-docs/stable/user_guide/indexing.html#returning-a-view-versus-a-copy\n",
      "  data[OBS] = [pd.Series(interpolate_data(row, seconds, end_frame_rate)) for row in np.array(data)]\n"
     ]
    },
    {
     "name": "stdout",
     "output_type": "stream",
     "text": [
      "test_data\n"
     ]
    },
    {
     "name": "stderr",
     "output_type": "stream",
     "text": [
      "C:\\Users\\malin\\OneDrive\\Documents\\GitHub\\ts_class\\activity_classifier\\prepare_data.py:42: SettingWithCopyWarning: \n",
      "A value is trying to be set on a copy of a slice from a DataFrame.\n",
      "Try using .loc[row_indexer,col_indexer] = value instead\n",
      "\n",
      "See the caveats in the documentation: https://pandas.pydata.org/pandas-docs/stable/user_guide/indexing.html#returning-a-view-versus-a-copy\n",
      "  data[OBS] = [pd.Series(interpolate_data(row, seconds, end_frame_rate)) for row in np.array(data)]\n"
     ]
    },
    {
     "name": "stdout",
     "output_type": "stream",
     "text": [
      "RESULTS RISE: {'ACCURACY': 0.9717060045041093, 'PRECISION': 0.9560862450068516, 'RECALL': 0.9037244568425787}\n",
      "VARIABILITY RESULTS RISE: {'ACCURACY': 0.01421765885224032, 'PRECISION': 0.012066514268270156, 'RECALL': 0.063017789930724}\n",
      "MIN RESULTS RISE: {'ACCURACY': 0.950381679389313, 'PRECISION': 0.9333333333333333, 'RECALL': 0.8076923076923077}\n",
      "MAX RESULTS RISE: {'ACCURACY': 0.9885496183206107, 'PRECISION': 0.9661016949152542, 'RECALL': 0.9827586206896551}\n",
      "training_data\n"
     ]
    },
    {
     "name": "stderr",
     "output_type": "stream",
     "text": [
      "C:\\Users\\malin\\OneDrive\\Documents\\GitHub\\ts_class\\activity_classifier\\prepare_data.py:42: SettingWithCopyWarning: \n",
      "A value is trying to be set on a copy of a slice from a DataFrame.\n",
      "Try using .loc[row_indexer,col_indexer] = value instead\n",
      "\n",
      "See the caveats in the documentation: https://pandas.pydata.org/pandas-docs/stable/user_guide/indexing.html#returning-a-view-versus-a-copy\n",
      "  data[OBS] = [pd.Series(interpolate_data(row, seconds, end_frame_rate)) for row in np.array(data)]\n"
     ]
    },
    {
     "name": "stdout",
     "output_type": "stream",
     "text": [
      "test_data\n"
     ]
    },
    {
     "name": "stderr",
     "output_type": "stream",
     "text": [
      "C:\\Users\\malin\\OneDrive\\Documents\\GitHub\\ts_class\\activity_classifier\\prepare_data.py:42: SettingWithCopyWarning: \n",
      "A value is trying to be set on a copy of a slice from a DataFrame.\n",
      "Try using .loc[row_indexer,col_indexer] = value instead\n",
      "\n",
      "See the caveats in the documentation: https://pandas.pydata.org/pandas-docs/stable/user_guide/indexing.html#returning-a-view-versus-a-copy\n",
      "  data[OBS] = [pd.Series(interpolate_data(row, seconds, end_frame_rate)) for row in np.array(data)]\n"
     ]
    },
    {
     "name": "stdout",
     "output_type": "stream",
     "text": [
      "RESULTS RISE: {'ACCURACY': 0.9717060045041093, 'PRECISION': 0.9501382097211352, 'RECALL': 0.9115553361599649}\n",
      "VARIABILITY RESULTS RISE: {'ACCURACY': 0.009276091839835219, 'PRECISION': 0.03077741643009311, 'RECALL': 0.03645630039607492}\n",
      "MIN RESULTS RISE: {'ACCURACY': 0.9540229885057471, 'PRECISION': 0.9074074074074074, 'RECALL': 0.8518518518518519}\n",
      "MAX RESULTS RISE: {'ACCURACY': 0.9808429118773946, 'PRECISION': 0.9827586206896551, 'RECALL': 0.9607843137254902}\n",
      "training_data\n"
     ]
    },
    {
     "name": "stderr",
     "output_type": "stream",
     "text": [
      "C:\\Users\\malin\\OneDrive\\Documents\\GitHub\\ts_class\\activity_classifier\\prepare_data.py:42: SettingWithCopyWarning: \n",
      "A value is trying to be set on a copy of a slice from a DataFrame.\n",
      "Try using .loc[row_indexer,col_indexer] = value instead\n",
      "\n",
      "See the caveats in the documentation: https://pandas.pydata.org/pandas-docs/stable/user_guide/indexing.html#returning-a-view-versus-a-copy\n",
      "  data[OBS] = [pd.Series(interpolate_data(row, seconds, end_frame_rate)) for row in np.array(data)]\n"
     ]
    },
    {
     "name": "stdout",
     "output_type": "stream",
     "text": [
      "test_data\n"
     ]
    },
    {
     "name": "stderr",
     "output_type": "stream",
     "text": [
      "C:\\Users\\malin\\OneDrive\\Documents\\GitHub\\ts_class\\activity_classifier\\prepare_data.py:42: SettingWithCopyWarning: \n",
      "A value is trying to be set on a copy of a slice from a DataFrame.\n",
      "Try using .loc[row_indexer,col_indexer] = value instead\n",
      "\n",
      "See the caveats in the documentation: https://pandas.pydata.org/pandas-docs/stable/user_guide/indexing.html#returning-a-view-versus-a-copy\n",
      "  data[OBS] = [pd.Series(interpolate_data(row, seconds, end_frame_rate)) for row in np.array(data)]\n"
     ]
    },
    {
     "name": "stdout",
     "output_type": "stream",
     "text": [
      "RESULTS RISE: {'ACCURACY': 0.7523237109180778, 'PRECISION': 0.1640464798359535, 'RECALL': 0.04428133994243684}\n",
      "VARIABILITY RESULTS RISE: {'ACCURACY': 0.023549361795715817, 'PRECISION': 0.14333220548960846, 'RECALL': 0.039687780670179626}\n",
      "MIN RESULTS RISE: {'ACCURACY': 0.7175572519083969, 'PRECISION': 0.0, 'RECALL': 0.0}\n",
      "MAX RESULTS RISE: {'ACCURACY': 0.789272030651341, 'PRECISION': 0.42857142857142855, 'RECALL': 0.11320754716981132}\n",
      "training_data\n"
     ]
    },
    {
     "name": "stderr",
     "output_type": "stream",
     "text": [
      "C:\\Users\\malin\\OneDrive\\Documents\\GitHub\\ts_class\\activity_classifier\\prepare_data.py:42: SettingWithCopyWarning: \n",
      "A value is trying to be set on a copy of a slice from a DataFrame.\n",
      "Try using .loc[row_indexer,col_indexer] = value instead\n",
      "\n",
      "See the caveats in the documentation: https://pandas.pydata.org/pandas-docs/stable/user_guide/indexing.html#returning-a-view-versus-a-copy\n",
      "  data[OBS] = [pd.Series(interpolate_data(row, seconds, end_frame_rate)) for row in np.array(data)]\n"
     ]
    },
    {
     "name": "stdout",
     "output_type": "stream",
     "text": [
      "test_data\n"
     ]
    },
    {
     "name": "stderr",
     "output_type": "stream",
     "text": [
      "C:\\Users\\malin\\OneDrive\\Documents\\GitHub\\ts_class\\activity_classifier\\prepare_data.py:42: SettingWithCopyWarning: \n",
      "A value is trying to be set on a copy of a slice from a DataFrame.\n",
      "Try using .loc[row_indexer,col_indexer] = value instead\n",
      "\n",
      "See the caveats in the documentation: https://pandas.pydata.org/pandas-docs/stable/user_guide/indexing.html#returning-a-view-versus-a-copy\n",
      "  data[OBS] = [pd.Series(interpolate_data(row, seconds, end_frame_rate)) for row in np.array(data)]\n"
     ]
    },
    {
     "name": "stdout",
     "output_type": "stream",
     "text": [
      "RESULTS RISE: {'ACCURACY': 0.7522944634552953, 'PRECISION': 0.1401315789473684, 'RECALL': 0.040936570168376096}\n",
      "VARIABILITY RESULTS RISE: {'ACCURACY': 0.012150684437079264, 'PRECISION': 0.10305244341684881, 'RECALL': 0.0320301596968368}\n",
      "MIN RESULTS RISE: {'ACCURACY': 0.732824427480916, 'PRECISION': 0.0, 'RECALL': 0.0}\n",
      "MAX RESULTS RISE: {'ACCURACY': 0.7633587786259542, 'PRECISION': 0.2631578947368421, 'RECALL': 0.09433962264150944}\n",
      "training_data\n"
     ]
    },
    {
     "name": "stderr",
     "output_type": "stream",
     "text": [
      "C:\\Users\\malin\\OneDrive\\Documents\\GitHub\\ts_class\\activity_classifier\\prepare_data.py:42: SettingWithCopyWarning: \n",
      "A value is trying to be set on a copy of a slice from a DataFrame.\n",
      "Try using .loc[row_indexer,col_indexer] = value instead\n",
      "\n",
      "See the caveats in the documentation: https://pandas.pydata.org/pandas-docs/stable/user_guide/indexing.html#returning-a-view-versus-a-copy\n",
      "  data[OBS] = [pd.Series(interpolate_data(row, seconds, end_frame_rate)) for row in np.array(data)]\n"
     ]
    },
    {
     "name": "stdout",
     "output_type": "stream",
     "text": [
      "test_data\n"
     ]
    },
    {
     "name": "stderr",
     "output_type": "stream",
     "text": [
      "C:\\Users\\malin\\OneDrive\\Documents\\GitHub\\ts_class\\activity_classifier\\prepare_data.py:42: SettingWithCopyWarning: \n",
      "A value is trying to be set on a copy of a slice from a DataFrame.\n",
      "Try using .loc[row_indexer,col_indexer] = value instead\n",
      "\n",
      "See the caveats in the documentation: https://pandas.pydata.org/pandas-docs/stable/user_guide/indexing.html#returning-a-view-versus-a-copy\n",
      "  data[OBS] = [pd.Series(interpolate_data(row, seconds, end_frame_rate)) for row in np.array(data)]\n"
     ]
    },
    {
     "name": "stdout",
     "output_type": "stream",
     "text": [
      "RESULTS RISE: {'ACCURACY': 0.7477494077388787, 'PRECISION': 0.1728254459678608, 'RECALL': 0.05167150716185305}\n",
      "VARIABILITY RESULTS RISE: {'ACCURACY': 0.029924247647811045, 'PRECISION': 0.08782664116546428, 'RECALL': 0.018364590910849108}\n",
      "MIN RESULTS RISE: {'ACCURACY': 0.6946564885496184, 'PRECISION': 0.07142857142857142, 'RECALL': 0.018867924528301886}\n",
      "MAX RESULTS RISE: {'ACCURACY': 0.7777777777777778, 'PRECISION': 0.3333333333333333, 'RECALL': 0.07272727272727272}\n",
      "training_data\n"
     ]
    },
    {
     "name": "stderr",
     "output_type": "stream",
     "text": [
      "C:\\Users\\malin\\OneDrive\\Documents\\GitHub\\ts_class\\activity_classifier\\prepare_data.py:42: SettingWithCopyWarning: \n",
      "A value is trying to be set on a copy of a slice from a DataFrame.\n",
      "Try using .loc[row_indexer,col_indexer] = value instead\n",
      "\n",
      "See the caveats in the documentation: https://pandas.pydata.org/pandas-docs/stable/user_guide/indexing.html#returning-a-view-versus-a-copy\n",
      "  data[OBS] = [pd.Series(interpolate_data(row, seconds, end_frame_rate)) for row in np.array(data)]\n"
     ]
    },
    {
     "name": "stdout",
     "output_type": "stream",
     "text": [
      "test_data\n"
     ]
    },
    {
     "name": "stderr",
     "output_type": "stream",
     "text": [
      "C:\\Users\\malin\\OneDrive\\Documents\\GitHub\\ts_class\\activity_classifier\\prepare_data.py:42: SettingWithCopyWarning: \n",
      "A value is trying to be set on a copy of a slice from a DataFrame.\n",
      "Try using .loc[row_indexer,col_indexer] = value instead\n",
      "\n",
      "See the caveats in the documentation: https://pandas.pydata.org/pandas-docs/stable/user_guide/indexing.html#returning-a-view-versus-a-copy\n",
      "  data[OBS] = [pd.Series(interpolate_data(row, seconds, end_frame_rate)) for row in np.array(data)]\n"
     ]
    },
    {
     "name": "stdout",
     "output_type": "stream",
     "text": [
      "RESULTS RISE: {'ACCURACY': 0.7553566728086338, 'PRECISION': 0.2111609907120743, 'RECALL': 0.061150072915519646}\n",
      "VARIABILITY RESULTS RISE: {'ACCURACY': 0.01881398917477953, 'PRECISION': 0.07519719146301969, 'RECALL': 0.01989849068671152}\n",
      "MIN RESULTS RISE: {'ACCURACY': 0.7366412213740458, 'PRECISION': 0.11764705882352941, 'RECALL': 0.043478260869565216}\n",
      "MAX RESULTS RISE: {'ACCURACY': 0.7786259541984732, 'PRECISION': 0.3, 'RECALL': 0.08620689655172414}\n",
      "training_data\n"
     ]
    },
    {
     "name": "stderr",
     "output_type": "stream",
     "text": [
      "C:\\Users\\malin\\OneDrive\\Documents\\GitHub\\ts_class\\activity_classifier\\prepare_data.py:42: SettingWithCopyWarning: \n",
      "A value is trying to be set on a copy of a slice from a DataFrame.\n",
      "Try using .loc[row_indexer,col_indexer] = value instead\n",
      "\n",
      "See the caveats in the documentation: https://pandas.pydata.org/pandas-docs/stable/user_guide/indexing.html#returning-a-view-versus-a-copy\n",
      "  data[OBS] = [pd.Series(interpolate_data(row, seconds, end_frame_rate)) for row in np.array(data)]\n"
     ]
    },
    {
     "name": "stdout",
     "output_type": "stream",
     "text": [
      "test_data\n"
     ]
    },
    {
     "name": "stderr",
     "output_type": "stream",
     "text": [
      "C:\\Users\\malin\\OneDrive\\Documents\\GitHub\\ts_class\\activity_classifier\\prepare_data.py:42: SettingWithCopyWarning: \n",
      "A value is trying to be set on a copy of a slice from a DataFrame.\n",
      "Try using .loc[row_indexer,col_indexer] = value instead\n",
      "\n",
      "See the caveats in the documentation: https://pandas.pydata.org/pandas-docs/stable/user_guide/indexing.html#returning-a-view-versus-a-copy\n",
      "  data[OBS] = [pd.Series(interpolate_data(row, seconds, end_frame_rate)) for row in np.array(data)]\n"
     ]
    },
    {
     "name": "stdout",
     "output_type": "stream",
     "text": [
      "RESULTS RISE: {'ACCURACY': 0.7523149366792431, 'PRECISION': 0.17409436109126514, 'RECALL': 0.0515026179069798}\n",
      "VARIABILITY RESULTS RISE: {'ACCURACY': 0.012229047264023806, 'PRECISION': 0.04820667079625562, 'RECALL': 0.017998303166904327}\n",
      "MIN RESULTS RISE: {'ACCURACY': 0.7366412213740458, 'PRECISION': 0.10526315789473684, 'RECALL': 0.03508771929824561}\n",
      "MAX RESULTS RISE: {'ACCURACY': 0.7701149425287356, 'PRECISION': 0.23529411764705882, 'RECALL': 0.0784313725490196}\n",
      "training_data\n"
     ]
    },
    {
     "name": "stderr",
     "output_type": "stream",
     "text": [
      "C:\\Users\\malin\\OneDrive\\Documents\\GitHub\\ts_class\\activity_classifier\\prepare_data.py:42: SettingWithCopyWarning: \n",
      "A value is trying to be set on a copy of a slice from a DataFrame.\n",
      "Try using .loc[row_indexer,col_indexer] = value instead\n",
      "\n",
      "See the caveats in the documentation: https://pandas.pydata.org/pandas-docs/stable/user_guide/indexing.html#returning-a-view-versus-a-copy\n",
      "  data[OBS] = [pd.Series(interpolate_data(row, seconds, end_frame_rate)) for row in np.array(data)]\n"
     ]
    },
    {
     "name": "stdout",
     "output_type": "stream",
     "text": [
      "test_data\n"
     ]
    },
    {
     "name": "stderr",
     "output_type": "stream",
     "text": [
      "C:\\Users\\malin\\OneDrive\\Documents\\GitHub\\ts_class\\activity_classifier\\prepare_data.py:42: SettingWithCopyWarning: \n",
      "A value is trying to be set on a copy of a slice from a DataFrame.\n",
      "Try using .loc[row_indexer,col_indexer] = value instead\n",
      "\n",
      "See the caveats in the documentation: https://pandas.pydata.org/pandas-docs/stable/user_guide/indexing.html#returning-a-view-versus-a-copy\n",
      "  data[OBS] = [pd.Series(interpolate_data(row, seconds, end_frame_rate)) for row in np.array(data)]\n"
     ]
    }
   ],
   "source": [
    "# Give each prediction a number to keep track of each and allow for training them in batches\n",
    "# Predictions from each repeat will be saved in a pickel file with format: SA_classifier_predictions'+str(loop)+'.pickle'\n",
    "\n",
    "# Warning: This version of the model does not support paralellising as it relies on intermediate files for interpolation\n",
    "# For that reason, the repeats should be run sequentially with the current version - I plan to change it in the future releases\n",
    "\n",
    "start_loop=0\n",
    "end_loop=5\n",
    "\n",
    "run_many_classifiers(experiments,dFoverFs, duration, sampling_rate, training_file_path, output_folder_path, start_loop, end_loop)\n",
    "run_many_classifiers_shuffle(experiments,dFoverFs, duration, sampling_rate, training_file_path_shuf, output_folder_path, start_loop, end_loop)"
   ]
  },
  {
   "cell_type": "code",
   "execution_count": null,
   "id": "b22f0323-ab3c-4941-988d-493ab372f8a2",
   "metadata": {},
   "outputs": [],
   "source": []
  }
 ],
 "metadata": {
  "kernelspec": {
   "display_name": "Python 3 (ipykernel)",
   "language": "python",
   "name": "python3"
  },
  "language_info": {
   "codemirror_mode": {
    "name": "ipython",
    "version": 3
   },
   "file_extension": ".py",
   "mimetype": "text/x-python",
   "name": "python",
   "nbconvert_exporter": "python",
   "pygments_lexer": "ipython3",
   "version": "3.10.11"
  }
 },
 "nbformat": 4,
 "nbformat_minor": 5
}
