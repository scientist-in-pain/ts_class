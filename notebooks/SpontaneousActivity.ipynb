{
  "nbformat": 4,
  "nbformat_minor": 0,
  "metadata": {
    "colab": {
      "name": "SpontaneousActivity.ipynb",
      "provenance": [],
      "authorship_tag": "ABX9TyMSgLNwax6vCqNyFTAX4+Rd",
      "include_colab_link": true
    },
    "kernelspec": {
      "name": "python3",
      "display_name": "Python 3"
    },
    "language_info": {
      "name": "python"
    }
  },
  "cells": [
    {
      "cell_type": "markdown",
      "metadata": {
        "id": "view-in-github",
        "colab_type": "text"
      },
      "source": [
        "<a href=\"https://colab.research.google.com/github/sonialouise/ts_class/blob/main/notebooks/SpontaneousActivity.ipynb\" target=\"_parent\"><img src=\"https://colab.research.google.com/assets/colab-badge.svg\" alt=\"Open In Colab\"/></a>"
      ]
    },
    {
      "cell_type": "markdown",
      "source": [
        "# Spontaneous Neuronal Activity Classifier\n",
        "This notebook allows users to upload data in order to run a pretrained model to identify neurons exhibiting spontaneous activity."
      ],
      "metadata": {
        "id": "5NBXm8AJgCWs"
      }
    },
    {
      "cell_type": "code",
      "execution_count": null,
      "metadata": {
        "colab": {
          "base_uri": "https://localhost:8080/"
        },
        "id": "lhuybhzUW_2s",
        "outputId": "d92a567e-a22e-4e08-f56d-d51b59a09dd7",
        "cellView": "form"
      },
      "outputs": [
        {
          "output_type": "stream",
          "name": "stdout",
          "text": [
            "fatal: destination path 'ts_class' already exists and is not an empty directory.\n"
          ]
        }
      ],
      "source": [
        "#@markdown The Github repository with all custom functions, the ground truth datasets and the pretrained models is copied to the environment of this notebook. This will take a couple of seconds.\n",
        "\n",
        "#@markdown *Note: You can check the code underlying each cell by double-clicking on it.*\n",
        "\n",
        "import os\n",
        "\n",
        "# If in Colab and not yet downloaded, download GitHub repository and change working directory\n",
        "if os.getcwd() == '/content':  \n",
        "    !git clone https://github.com/sonialouise/ts_class.git\n",
        "    os.chdir('ts_class')\n",
        "    \n",
        "# If executed as jupyter notebook on own computer, change to parent directory for imports\n",
        "if os.path.basename( os.getcwd() ) == 'activity_classifier':\n",
        "    %cd ..\n",
        "    print('New working directory:', os.getcwd() )"
      ]
    },
    {
      "cell_type": "code",
      "source": [
        "!git pull "
      ],
      "metadata": {
        "id": "XQ4sR3lETWhh",
        "outputId": "a5d6d116-eb0e-4bb6-f5f5-ec420242bcd4",
        "colab": {
          "base_uri": "https://localhost:8080/"
        }
      },
      "execution_count": null,
      "outputs": [
        {
          "output_type": "stream",
          "name": "stdout",
          "text": [
            "Already up to date.\n"
          ]
        }
      ]
    },
    {
      "cell_type": "code",
      "source": [
        "#@markdown Downloads packages from public repository, and packages from ts_class\n",
        "\n",
        "%%capture\n",
        "!pip install -r requirements.txt\n",
        "\n",
        "# python imports\n",
        "import pickle\n",
        "import argparse\n",
        "import logging\n",
        "import pandas as pd\n",
        "\n",
        "# ts_class packages, imported from the downloaded Github repository\n",
        "from activity_classifier.main import run_model\n",
        "from activity_classifier.config import TSF_MODEL, RISE_MODEL, OBS, PREDICTION, OUTPUT_PATH\n",
        "from activity_classifier.prepare_data import prepare_data\n",
        "from activity_classifier.retrain_models import retrain_tsf, retrain_rise\n",
        "\n",
        "logging.basicConfig(format='%(levelname)s:%(message)s', level=logging.DEBUG)"
      ],
      "metadata": {
        "id": "VXUzCxoQYm52",
        "cellView": "form"
      },
      "execution_count": null,
      "outputs": []
    },
    {
      "cell_type": "code",
      "source": [
        "#@markdown If you are testing the script, you can leave everything unchanged. If you want to apply the algorithm to your own data, you have to upload your data first. The paragraph above tells you how to format and name the file. You can do this by clicking on the **folder symbol (\"Files\")** on the left side of the Colaboratory notebook. Next, indicate the path of the uploaded file in the variable **`example_file`**. Finally, indicate the sampling rate of your recordings in the variable **`frame_rate`**.\n",
        "\n",
        "example_file = \"data/test_set.csv\" #@param {type:\"string\"}\n",
        "\n",
        "frame_no = 550 #@param {type:\"number\"}\n",
        "\n",
        "# try:\n",
        "\n",
        "#   traces = load_neurons_x_time( example_file )\n",
        "#   print('Number of neurons in dataset:', traces.shape[0])\n",
        "#   print('Number of timepoints in dataset:', traces.shape[1])\n",
        "\n",
        "# except Exception as e:\n",
        "  \n",
        "#   print('\\nSomething went wrong!\\nEither the target file is missing, in this case please provide the correct location.\\nOr your file is not yet completely uploaded, in this case wait until the upload is completed.\\n')\n",
        "\n",
        "#   print('Error message: '+str(e))\n",
        "  "
      ],
      "metadata": {
        "id": "FhLlOA3uawQQ",
        "cellView": "form"
      },
      "execution_count": null,
      "outputs": []
    },
    {
      "cell_type": "code",
      "source": [
        "    #@markdown If your data contains more then 550 frames, you will need to retrain the models - Play this cell\n",
        "    \n",
        "    logging.info(\"1. Reading csv file...\")\n",
        "    data = pd.read_csv('data/training_data.csv', header=0)\n",
        "    logging.info(\"2. Normalising data...\")\n",
        "    data = pd.concat([prepare_data(data.iloc[:, 0:frame_no]), data['status']], axis=1)\n",
        "    logging.info(\"3. Retraining Time Series Classifier...\")\n",
        "    retrain_tsf(data)\n",
        "    logging.info(\"4. Retraining Random Interval Spectral Ensemble...\")\n",
        "    retrain_rise(data)\n",
        "    logging.info(\"5. Retraining Complete\")"
      ],
      "metadata": {
        "id": "gfRMRaZwadBP",
        "outputId": "d9af9c0d-0bff-43f9-adce-a630affe2346",
        "colab": {
          "base_uri": "https://localhost:8080/"
        },
        "cellView": "form"
      },
      "execution_count": null,
      "outputs": [
        {
          "output_type": "stream",
          "name": "stdout",
          "text": [
            "RESULTS TSF: {'ACCURACY': 0.8821812596006143, 'PRECISION': 0.8653881480312476, 'RECALL': 0.8294300144300145}\n",
            "RESULTS RISE: {'ACCURACY': 0.9205837173579109, 'PRECISION': 0.9153151598803774, 'RECALL': 0.8799477495129668}\n"
          ]
        }
      ]
    },
    {
      "cell_type": "code",
      "source": [
        "#@markdown Now we can run the model on your data\n",
        "\n",
        "logging.info(\"1. Reading csv file...\")\n",
        "data = pd.read_csv(example_file, header=0)\n",
        "logging.info(\"2. Normalising data...\")\n",
        "data = prepare_data(data.iloc[:, 0:int(frame_no)])\n",
        "logging.info(\"3. Predicting with TimeSeries Forest Classifier...\")\n",
        "data = run_model(data, TSF_MODEL, 'TSF')\n",
        "logging.info(\"4. Predicting with Random Interval Spectral Ensemble...\")\n",
        "data = run_model(data, RISE_MODEL, 'RISE')\n",
        "logging.info(\"5. Saving output...\")\n",
        "data.to_csv(OUTPUT_PATH)\n",
        "logging.info(\"6. Process complete\")"
      ],
      "metadata": {
        "colab": {
          "base_uri": "https://localhost:8080/"
        },
        "id": "rXlGDNhFdNOy",
        "outputId": "ad5cc859-1370-4de2-96a2-8642bc1ccc50",
        "cellView": "form"
      },
      "execution_count": null,
      "outputs": [
        {
          "output_type": "stream",
          "name": "stderr",
          "text": [
            "/content/ts_class/activity_classifier/prepare_data.py:20: SettingWithCopyWarning: \n",
            "A value is trying to be set on a copy of a slice from a DataFrame.\n",
            "Try using .loc[row_indexer,col_indexer] = value instead\n",
            "\n",
            "See the caveats in the documentation: https://pandas.pydata.org/pandas-docs/stable/user_guide/indexing.html#returning-a-view-versus-a-copy\n",
            "  data[OBS] = [pd.Series(row) for row in np.array(data)]\n"
          ]
        }
      ]
    },
    {
      "cell_type": "code",
      "source": [
        ""
      ],
      "metadata": {
        "id": "LvCHo2LdfDwM"
      },
      "execution_count": null,
      "outputs": []
    }
  ]
}