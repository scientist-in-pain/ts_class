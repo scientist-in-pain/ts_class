{
  "nbformat": 4,
  "nbformat_minor": 0,
  "metadata": {
    "colab": {
      "name": "SpontaneousActivity.ipynb",
      "provenance": [],
      "authorship_tag": "ABX9TyOUsH+KFlwfjv3rQ84lGfm2",
      "include_colab_link": true
    },
    "kernelspec": {
      "name": "python3",
      "display_name": "Python 3"
    },
    "language_info": {
      "name": "python"
    }
  },
  "cells": [
    {
      "cell_type": "markdown",
      "metadata": {
        "id": "view-in-github",
        "colab_type": "text"
      },
      "source": [
        "<a href=\"https://colab.research.google.com/github/sonialouise/ts_class/blob/main/notebooks/SpontaneousActivity.ipynb\" target=\"_parent\"><img src=\"https://colab.research.google.com/assets/colab-badge.svg\" alt=\"Open In Colab\"/></a>"
      ]
    },
    {
      "cell_type": "markdown",
      "source": [
        "# Spontaneous Neuronal Activity Classifier\n",
        "This spontaneous neuronal activity classifier has been trained to detect whether or not neuronal frequency recordings indicate neuronal activity. The data used to train this model was 151 seconds at a sampling rate of 3.65Hz. \n",
        "\n",
        "This notebook enables users to:\n",
        "- Use our trained activity classifier on your own data\n",
        "- Use our labelled data to retrain the activity classifier for different recording durations (greater or less than 151 seconds)\n",
        "- Retrain the classifier on your own labelled data\n",
        "\n",
        "To run each cell of the notebook, click the play arrow to the left. Alternatively, you can use shift + enter. Cells 1-3 are required if testing or training the model."
      ],
      "metadata": {
        "id": "5NBXm8AJgCWs"
      }
    },
    {
      "cell_type": "code",
      "execution_count": null,
      "metadata": {
        "id": "lhuybhzUW_2s",
        "cellView": "form"
      },
      "outputs": [],
      "source": [
        "#@markdown The Github repository with all custom functions, the model training datasets and the pretrained models are copied to the environment of this notebook. This will take a couple of seconds.\n",
        "\n",
        "#@markdown *Note: You can check the code underlying each cell by double-clicking on it.*\n",
        "\n",
        "import os\n",
        "\n",
        "# If in Colab and not yet downloaded, download GitHub repository and change working directory\n",
        "if os.getcwd() == '/content':  \n",
        "    !git clone https://github.com/sonialouise/ts_class.git\n",
        "    os.chdir('ts_class')\n",
        "    \n",
        "# If executed as jupyter notebook on own computer, change to parent directory for imports\n",
        "if os.path.basename( os.getcwd() ) == 'activity_classifier':\n",
        "    %cd ..\n",
        "    print('New working directory:', os.getcwd() )"
      ]
    },
    {
      "cell_type": "code",
      "source": [
        "#@markdown Run this cell to pull the latest version of the repository\n",
        "\n",
        "\n",
        "!git pull "
      ],
      "metadata": {
        "id": "XQ4sR3lETWhh",
        "cellView": "form"
      },
      "execution_count": null,
      "outputs": []
    },
    {
      "cell_type": "code",
      "source": [
        "#@markdown Download packages required to run the model\n",
        "\n",
        "%%capture\n",
        "!pip install -r requirements.txt\n",
        "\n",
        "# python imports\n",
        "import pickle\n",
        "import argparse\n",
        "import logging\n",
        "import pandas as pd\n",
        "import matplotlib.pyplot as plt\n",
        "\n",
        "# ts_class packages, imported from the downloaded Github repository\n",
        "from activity_classifier.main import run_model\n",
        "from activity_classifier.config import TSF_MODEL, RISE_MODEL, OBS, PREDICTION, OUTPUT_PATH\n",
        "from activity_classifier.prepare_data import prepare_data\n",
        "from activity_classifier.retrain_models import retrain_tsf, retrain_rise\n",
        "\n",
        "logging.basicConfig(format='%(levelname)s:%(message)s', level=logging.DEBUG)"
      ],
      "metadata": {
        "id": "VXUzCxoQYm52",
        "cellView": "form"
      },
      "execution_count": null,
      "outputs": []
    },
    {
      "cell_type": "markdown",
      "source": [
        "# Running the classifier"
      ],
      "metadata": {
        "id": "l7xOaDmx7TZw"
      }
    },
    {
      "cell_type": "code",
      "source": [
        "#@markdown If you are testing the script, leave the below field unchanged. If you want to apply the model to your own data, you need to upload your data first. \n",
        "\n",
        "#@markdown To upload data, click on the **folder symbol (\"Files\")** on the left side of the Colaboratory notebook, and select 'Upload to session storage'. \n",
        "\n",
        "#@markdown Note that for data longer than 151 seconds, only the first 151 seconds will be used for the prediction, unless the model is retrained with the longer duration.\n",
        "\n",
        "#@markdown Please enter path to your test data in Colab files\n",
        "\n",
        "file_path = \"data/test_data.csv\" #@param {type:\"string\"}\n"
      ],
      "metadata": {
        "id": "FhLlOA3uawQQ",
        "cellView": "form"
      },
      "execution_count": null,
      "outputs": []
    },
    {
      "cell_type": "code",
      "source": [
        "#@markdown If you have retrained your model, please enter the new duration (seconds), and sampling rate (Hz) variables below (these should be exactly the same as used during retraining). Otherwise, leave the default values.\n",
        "\n",
        "duration = 151 #@param {type:\"number\"}  \n",
        "\n",
        "sampling_rate = 3.65 #@param {type: \"number\"}"
      ],
      "metadata": {
        "cellView": "form",
        "id": "_W3e8NMx2BFs"
      },
      "execution_count": null,
      "outputs": []
    },
    {
      "cell_type": "code",
      "source": [
        "#@markdown Please enter the total number of frames for your recording below.\n",
        "\n",
        "total_frames = 551 #@param {type: \"number\"}"
      ],
      "metadata": {
        "cellView": "form",
        "id": "0xCVUDyAOwfX"
      },
      "execution_count": null,
      "outputs": []
    },
    {
      "cell_type": "code",
      "source": [
        "#@markdown Play this cell to prepare your data for the model. Data recorded at a higher frequency than the sampling rate above will be interpolated to the above frequency.\n",
        "\n",
        "logging.info(\"1. Reading csv file...\")\n",
        "raw_data = pd.read_csv(file_path, header=0)\n",
        "logging.info(\"2. Normalising data...\")\n",
        "trace_data = raw_data.iloc[:, 0:total_frames]\n",
        "data = prepare_data(trace_data, duration, sampling_rate)\n"
      ],
      "metadata": {
        "id": "rXlGDNhFdNOy",
        "cellView": "form"
      },
      "execution_count": null,
      "outputs": []
    },
    {
      "cell_type": "code",
      "source": [
        "#@markdown If you would like to view a comparison of raw and interpolated data, please enter the row number to view below.\n",
        "row_number = 0 #@param {type:\"number\"}  \n",
        "\n",
        "plt.rcParams['figure.figsize'] = [15, 5]\n",
        "plt.figure(figsize=(30,300))\n",
        "\n",
        "fig, axs = plt.subplots(2)\n",
        "axs[0].set_title('Raw Data')\n",
        "axs[0].plot(trace_data.iloc[row_number, :total_frames])\n",
        "axs[0].set_xticks(range(0, len(trace_data.iloc[row_number, :total_frames]) + 1, 50))\n",
        "\n",
        "axs[1].set_title('Interpolated Data')\n",
        "axs[1].plot(data.iloc[row_number, :total_frames])\n",
        "axs[1].set_xticks(range(0, len(data.iloc[row_number, :total_frames]) + 1, 50))\n",
        "\n",
        "fig.tight_layout(pad=2.0)\n"
      ],
      "metadata": {
        "cellView": "form",
        "id": "TKu7ZWGTDwO2"
      },
      "execution_count": null,
      "outputs": []
    },
    {
      "cell_type": "code",
      "source": [
        "#@markdown Play this cell to run the model on your data. The model predictions and the interpolated data can be found in the \"Files\" folder under ts_class -> data.\n",
        "\n",
        "logging.info(\"3. Predicting with TimeSeries Forest Classifier...\")\n",
        "data = run_model(data, TSF_MODEL, 'TSF')\n",
        "logging.info(\"4. Predicting with Random Interval Spectral Ensemble...\")\n",
        "data = run_model(data, RISE_MODEL, 'RISE')\n",
        "logging.info(\"5. Saving output...\")\n",
        "data.to_csv(OUTPUT_PATH)\n",
        "logging.info(\"6. Process complete\")"
      ],
      "metadata": {
        "cellView": "form",
        "id": "KvVGa9UNDGas"
      },
      "execution_count": null,
      "outputs": []
    },
    {
      "cell_type": "markdown",
      "source": [
        "# Model Retraining\n",
        "If your setup uses frequency recordings greater or less than 151 seconds, model retraining is required. To you this, you can either use our labelled data or upload your own.\n",
        "\n",
        "If using your own data, the format is important. Data should be in a .csv file, with the column names indicating the frame number. The final column should be named 'status' and contain the activity label: 'inactive' or 'active'\n",
        "\n",
        "|0|1|2|3|...|status|\n",
        "|-|-|-|-|---|------|\n",
        "|0.134|0.224|0.123|0.444|...|active\n",
        "|0.005|0.002|0.000|0.001|...|inactive"
      ],
      "metadata": {
        "id": "SqKnDbL7oVwC"
      }
    },
    {
      "cell_type": "code",
      "source": [
        "#@markdown If you want to retrain on our data, do not adjust the below file path (but still play this cell)\n",
        "\n",
        "#@markdown To upload your own data, click on the **folder symbol (\"Files\")** on the left side of the Colaboratory notebook, and select 'Upload to session storage'. Next, indicate the file path of the uploaded file in the variable **`training_file_path`** below. \n",
        "\n",
        "training_file_path = \"data/training_data.csv\" #@param {type:\"string\"}\n",
        "\n",
        "\n",
        "\n"
      ],
      "metadata": {
        "cellView": "form",
        "id": "DVcYfy4XsLPr"
      },
      "execution_count": null,
      "outputs": []
    },
    {
      "cell_type": "code",
      "source": [
        "#@markdown If you want to retrain the model on our data, do not adjust the below sampling rate or total frames (but still play this cell)\n",
        "\n",
        "#@markdown If you are using your own data, enter the recording sampling rate (Hz)\n",
        "\n",
        "sampling_rate = 3.65 #@param {type: \"number\"}\n",
        "\n",
        "total_frames = 551 #@param {type: \"number\"}"
      ],
      "metadata": {
        "cellView": "form",
        "id": "662XjUZk8hts"
      },
      "execution_count": null,
      "outputs": []
    },
    {
      "cell_type": "code",
      "source": [
        "#@markdown If you want to retrain the model on our data, update the duration field below per your requirements. Please note, the maximum duration available in our data is 301 seconds. For a longer duration, your own labelled data is required. \n",
        "\n",
        "#@markdown If you are using your own data, enter the total recording duration in seconds\n",
        "\n",
        "duration = 151 #@param {type:\"number\"}  "
      ],
      "metadata": {
        "cellView": "form",
        "id": "9kkfh66N8L6k"
      },
      "execution_count": null,
      "outputs": []
    },
    {
      "cell_type": "code",
      "source": [
        "#@markdown Play this cell to retrain the model. This should take approx 5 minutes. <br />\n",
        "   \n",
        "logging.info(\"1. Reading csv file...\")\n",
        "data = pd.read_csv(training_file_path, header=0)\n",
        "logging.info(\"2. Normalising data...\")\n",
        "trace_data = data.iloc[:, 0:total_frames]\n",
        "data = pd.concat([prepare_data(trace_data, duration, sampling_rate), data['status']], axis=1)\n",
        "logging.info(\"3. Retraining Time Series Classifier...\")\n",
        "retrain_tsf(data)\n",
        "logging.info(\"4. Retraining Random Interval Spectral Ensemble...\")\n",
        "retrain_rise(data)\n",
        "logging.info(\"5. Retraining Complete\")"
      ],
      "metadata": {
        "id": "gfRMRaZwadBP",
        "cellView": "form"
      },
      "execution_count": null,
      "outputs": []
    },
    {
      "cell_type": "code",
      "source": [
        "#@title\n"
      ],
      "metadata": {
        "cellView": "form",
        "id": "UDonYtVNQtqg"
      },
      "execution_count": null,
      "outputs": []
    }
  ]
}