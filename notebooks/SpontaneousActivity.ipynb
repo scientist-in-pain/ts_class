{
  "nbformat": 4,
  "nbformat_minor": 0,
  "metadata": {
    "colab": {
      "name": "SpontaneousActivity.ipynb",
      "provenance": [],
      "authorship_tag": "ABX9TyNcZ2Y4RJ4ii2vkh2tlDo5b",
      "include_colab_link": true
    },
    "kernelspec": {
      "name": "python3",
      "display_name": "Python 3"
    },
    "language_info": {
      "name": "python"
    }
  },
  "cells": [
    {
      "cell_type": "markdown",
      "metadata": {
        "id": "view-in-github",
        "colab_type": "text"
      },
      "source": [
        "<a href=\"https://colab.research.google.com/github/sonialouise/ts_class/blob/main/notebooks/SpontaneousActivity.ipynb\" target=\"_parent\"><img src=\"https://colab.research.google.com/assets/colab-badge.svg\" alt=\"Open In Colab\"/></a>"
      ]
    },
    {
      "cell_type": "markdown",
      "source": [
        "# Spontaneous Neuronal Activity Classifier\n",
        "This spontaneous neuronal activity classifier has been trained to detect whether or not neuronal frequency recordings indicate neuronal activity. The data used to train this model was 151 seconds at a sampling rate of 3.65Hz. \n",
        "\n",
        "This notebook enables users to:\n",
        "- Use our trained activity classifier on your own data\n",
        "- Use our labelled data to retrain the activity classifier for different recording durations (greater or less than 151 seconds)\n",
        "- Retrain the classifier on your own labelled data\n",
        "\n",
        "To run each cell of the notebook, click the play arrow to the left. Alternatively, you can use shift + enter. Cells 1-3 are required if testing or training the model."
      ],
      "metadata": {
        "id": "5NBXm8AJgCWs"
      }
    },
    {
      "cell_type": "code",
      "execution_count": 1,
      "metadata": {
        "colab": {
          "base_uri": "https://localhost:8080/"
        },
        "id": "lhuybhzUW_2s",
        "outputId": "5c65f73b-b926-46be-e354-140af1637232",
        "cellView": "form"
      },
      "outputs": [
        {
          "output_type": "stream",
          "name": "stdout",
          "text": [
            "fatal: destination path 'ts_class' already exists and is not an empty directory.\n"
          ]
        }
      ],
      "source": [
        "#@markdown The Github repository with all custom functions, the model training datasets and the pretrained models are copied to the environment of this notebook. This will take a couple of seconds.\n",
        "\n",
        "#@markdown *Note: You can check the code underlying each cell by double-clicking on it.*\n",
        "\n",
        "import os\n",
        "\n",
        "# If in Colab and not yet downloaded, download GitHub repository and change working directory\n",
        "if os.getcwd() == '/content':  \n",
        "    !git clone https://github.com/sonialouise/ts_class.git\n",
        "    os.chdir('ts_class')\n",
        "    \n",
        "# If executed as jupyter notebook on own computer, change to parent directory for imports\n",
        "if os.path.basename( os.getcwd() ) == 'activity_classifier':\n",
        "    %cd ..\n",
        "    print('New working directory:', os.getcwd() )"
      ]
    },
    {
      "cell_type": "code",
      "source": [
        "#@markdown Run this cell to pull the latest version of the repository\n",
        "\n",
        "\n",
        "!git pull "
      ],
      "metadata": {
        "id": "XQ4sR3lETWhh",
        "outputId": "acd181f6-420e-405b-cff3-423ee4338adb",
        "colab": {
          "base_uri": "https://localhost:8080/"
        },
        "cellView": "form"
      },
      "execution_count": 9,
      "outputs": [
        {
          "output_type": "stream",
          "name": "stdout",
          "text": [
            "Already up to date.\n"
          ]
        }
      ]
    },
    {
      "cell_type": "code",
      "source": [
        "#@markdown Download packages required to run the model\n",
        "\n",
        "%%capture\n",
        "!pip install -r requirements.txt\n",
        "\n",
        "# python imports\n",
        "import pickle\n",
        "import argparse\n",
        "import logging\n",
        "import pandas as pd\n",
        "\n",
        "# ts_class packages, imported from the downloaded Github repository\n",
        "from activity_classifier.main import run_model\n",
        "from activity_classifier.config import TSF_MODEL, RISE_MODEL, OBS, PREDICTION, OUTPUT_PATH\n",
        "from activity_classifier.prepare_data import prepare_data\n",
        "from activity_classifier.retrain_models import retrain_tsf, retrain_rise\n",
        "\n",
        "logging.basicConfig(format='%(levelname)s:%(message)s', level=logging.DEBUG)"
      ],
      "metadata": {
        "id": "VXUzCxoQYm52",
        "cellView": "form"
      },
      "execution_count": 3,
      "outputs": []
    },
    {
      "cell_type": "markdown",
      "source": [
        "# Running the classifier"
      ],
      "metadata": {
        "id": "l7xOaDmx7TZw"
      }
    },
    {
      "cell_type": "code",
      "source": [
        "#@markdown If you are testing the script, leave the below field unchanged. If you want to apply the model to your own data, you need to upload your data first. \n",
        "\n",
        "#@markdown To upload data, click on the **folder symbol (\"Files\")** on the left side of the Colaboratory notebook, and select 'Upload to session storage'. \n",
        "\n",
        "#@markdown Note that for data longer than 151 seconds, only the first 151 seconds will be used for the prediction, unless the model is retrained with the longer duration.\n",
        "\n",
        "#@markdown Please enter path to your test data in Colab files\n",
        "\n",
        "file_path = \"data/test_data.csv\" #@param {type:\"string\"}\n"
      ],
      "metadata": {
        "id": "FhLlOA3uawQQ",
        "cellView": "form"
      },
      "execution_count": 4,
      "outputs": []
    },
    {
      "cell_type": "code",
      "source": [
        "#@markdown If you have retrained your model, please enter the new duration (seconds) and sampling rate (Hz) variables below (these should be exactly the same as used during retraining). Otherwise, leave the default values.\n",
        "\n",
        "duration = 151 #@param {type:\"number\"}  \n",
        "\n",
        "sampling_rate = 3.65 #@param {type: \"number\"}"
      ],
      "metadata": {
        "cellView": "form",
        "id": "_W3e8NMx2BFs"
      },
      "execution_count": 5,
      "outputs": []
    },
    {
      "cell_type": "code",
      "source": [
        "#@markdown Play this cell to run the model on your data. The model predictions and the interpolated data can be found in the \"Files\" folder under ts_class -> data.\n",
        "\n",
        "logging.info(\"1. Reading csv file...\")\n",
        "data = pd.read_csv(file_path, header=0)\n",
        "logging.info(\"2. Normalising data...\")\n",
        "total_frames = int(duration * sampling_rate)\n",
        "trace_data = data.iloc[:, 0:total_frames]\n",
        "data = prepare_data(trace_data, duration, sampling_rate)\n",
        "logging.info(\"3. Predicting with TimeSeries Forest Classifier...\")\n",
        "data = run_model(data, TSF_MODEL, 'TSF')\n",
        "logging.info(\"4. Predicting with Random Interval Spectral Ensemble...\")\n",
        "data = run_model(data, RISE_MODEL, 'RISE')\n",
        "logging.info(\"5. Saving output...\")\n",
        "data.to_csv(OUTPUT_PATH)\n",
        "logging.info(\"6. Process complete\")"
      ],
      "metadata": {
        "colab": {
          "base_uri": "https://localhost:8080/"
        },
        "id": "rXlGDNhFdNOy",
        "outputId": "80c5e7cd-52fb-4c2c-f49b-14ecc423c777",
        "cellView": "form"
      },
      "execution_count": 6,
      "outputs": [
        {
          "output_type": "stream",
          "name": "stderr",
          "text": [
            "/content/ts_class/activity_classifier/prepare_data.py:37: SettingWithCopyWarning: \n",
            "A value is trying to be set on a copy of a slice from a DataFrame.\n",
            "Try using .loc[row_indexer,col_indexer] = value instead\n",
            "\n",
            "See the caveats in the documentation: https://pandas.pydata.org/pandas-docs/stable/user_guide/indexing.html#returning-a-view-versus-a-copy\n",
            "  data[OBS] = [pd.Series(interpolate_data(row, seconds, end_frame_rate)) for row in np.array(data)]\n",
            "/content/ts_class/activity_classifier/main.py:14: SettingWithCopyWarning: \n",
            "A value is trying to be set on a copy of a slice from a DataFrame.\n",
            "Try using .loc[row_indexer,col_indexer] = value instead\n",
            "\n",
            "See the caveats in the documentation: https://pandas.pydata.org/pandas-docs/stable/user_guide/indexing.html#returning-a-view-versus-a-copy\n",
            "  data[f\"{model_name}_{PREDICTION}\"] = result\n"
          ]
        }
      ]
    },
    {
      "cell_type": "markdown",
      "source": [
        "# Model Retraining\n",
        "If your setup uses frequency recordings greater or less than 151 seconds, model retraining is required. To you this, you can either use our labelled data or upload your own.\n",
        "\n",
        "If using your own data, the format is important. Data should be in a .csv file, with the column names indicating the frame number. The final column should be named 'status' and contain the activity label: 'inactive' or 'active'\n",
        "\n",
        "|0|1|2|3|...|status|\n",
        "|-|-|-|-|---|------|\n",
        "|0.134|0.224|0.123|0.444|...|active\n",
        "|0.005|0.002|0.000|0.001|...|inactive"
      ],
      "metadata": {
        "id": "SqKnDbL7oVwC"
      }
    },
    {
      "cell_type": "code",
      "source": [
        "#@markdown If you want to retrain on our data, do not adjust the below file path (but still play this cell)\n",
        "\n",
        "#@markdown To upload your own data, click on the **folder symbol (\"Files\")** on the left side of the Colaboratory notebook, and select 'Upload to session storage'. Next, indicate the file path of the uploaded file in the variable **`training_file_path`** below. \n",
        "\n",
        "training_file_path = \"data/training_data.csv\" #@param {type:\"string\"}\n",
        "\n",
        "\n",
        "\n"
      ],
      "metadata": {
        "cellView": "form",
        "id": "DVcYfy4XsLPr"
      },
      "execution_count": 5,
      "outputs": []
    },
    {
      "cell_type": "code",
      "source": [
        "#@markdown If you want to retrain the model on our data, do not adjust the below sampling rate (but still play this cell)\n",
        "\n",
        "#@markdown If you are using your own data, enter the recording sampling rate (Hz)\n",
        "\n",
        "sampling_rate = 3.65 #@param {type: \"number\"}"
      ],
      "metadata": {
        "cellView": "form",
        "id": "662XjUZk8hts"
      },
      "execution_count": null,
      "outputs": []
    },
    {
      "cell_type": "code",
      "source": [
        "#@markdown If you want to retrain the model on our data, update the duration field below per your requirements. Please note, the maximum duration available in our data is 301 seconds. For a longer duration, your own labelled data is required. \n",
        "\n",
        "#@markdown If you are using your own data, enter the total recording duration in seconds\n",
        "\n",
        "duration = 151 #@param {type:\"number\"}  "
      ],
      "metadata": {
        "cellView": "form",
        "id": "9kkfh66N8L6k"
      },
      "execution_count": 10,
      "outputs": []
    },
    {
      "cell_type": "code",
      "source": [
        "#@markdown Play this cell to retrain the model. This should take approx 5 minutes. <br />\n",
        "   \n",
        "logging.info(\"1. Reading csv file...\")\n",
        "data = pd.read_csv(training_file_path, header=0)\n",
        "logging.info(\"2. Normalising data...\")\n",
        "total_frames = int(duration * sampling_rate)\n",
        "trace_data = data.iloc[:, 0:total_frames]\n",
        "data = pd.concat([prepare_data(trace_data, duration, sampling_rate), data['status']], axis=1)\n",
        "logging.info(\"3. Retraining Time Series Classifier...\")\n",
        "retrain_tsf(data)\n",
        "logging.info(\"4. Retraining Random Interval Spectral Ensemble...\")\n",
        "retrain_rise(data)\n",
        "logging.info(\"5. Retraining Complete\")"
      ],
      "metadata": {
        "id": "gfRMRaZwadBP",
        "outputId": "a9436d1a-aa95-45a0-b1e4-5e3c1ffc5a9c",
        "colab": {
          "base_uri": "https://localhost:8080/"
        },
        "cellView": "form"
      },
      "execution_count": 6,
      "outputs": [
        {
          "output_type": "stream",
          "name": "stdout",
          "text": [
            "RESULTS TSF: {'ACCURACY': 0.9059664824076512, 'PRECISION': 0.78944154209215, 'RECALL': 0.7456984496037586}\n",
            "RESULTS RISE: {'ACCURACY': 0.9663741920388406, 'PRECISION': 0.9517366486824616, 'RECALL': 0.8822005378001917}\n"
          ]
        }
      ]
    }
  ]
}